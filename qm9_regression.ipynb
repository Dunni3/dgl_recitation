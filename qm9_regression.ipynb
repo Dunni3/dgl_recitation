{
 "cells": [
  {
   "cell_type": "code",
   "execution_count": 15,
   "metadata": {},
   "outputs": [],
   "source": [
    "import dgl\n",
    "from rdkit import Chem\n",
    "Chem.Draw.IPythonConsole.ipython_3d = True  # enable py3Dmol inline visualization\n",
    "import torch\n",
    "import torch.nn as nn\n",
    "from torch.utils.data.dataloader import DataLoader\n",
    "from typing import List, Tuple\n",
    "from molecule_builder import graph_to_rdmol\n",
    "\n",
    "%matplotlib inline\n",
    "from matplotlib import pyplot as plt\n",
    "import networkx as nx\n",
    "from gnn import MoleculeRegressor\n",
    "import math\n",
    "\n",
    "import py3Dmol"
   ]
  },
  {
   "cell_type": "markdown",
   "metadata": {},
   "source": [
    "# How we represent a graph?\n",
    "\n",
    "DGL provides a class called `DGLGraph` to represent a graph. [Here is the documentation for the `DGLGraph` class](https://docs.dgl.ai/en/latest/api/python/dgl.DGLGraph.html)\n",
    "\n",
    "A graph has nodes and it has edges. All graphs in DGL are **directed**. This means that edges have a direction; every edge starts at a source node and ends at a destination node. This means that the edge $i \\to j$ is not the same edge as $j \\to i$.\n",
    "\n",
    "It is important understand precisely how we represent the edges of a graph. Every node has a unique ID, or index, which is an integer. We can refer to a node by its index. Edges are represented in terms of the indicies of the source and destination nodes. For example, the edge $(0,2)$ is an edge that starts at node 0 and ends at node 2.\n",
    "\n",
    "You can get similar information from the [official dgl tutorials](https://docs.dgl.ai/tutorials/blitz/2_dglgraph.html).\n",
    "\n",
    "In the cell below, we create a simple graph and visualize its structure."
   ]
  },
  {
   "cell_type": "code",
   "execution_count": 18,
   "metadata": {},
   "outputs": [
    {
     "data": {
      "image/png": "[encoded data removed]",
      "text/plain": [
       "<Figure size 500x500 with 1 Axes>"
      ]
     },
     "metadata": {},
     "output_type": "display_data"
    }
   ],
   "source": [
    "num_nodes = 3 # we will create a graph with 3 nodes\n",
    "\n",
    "edge_src_idxs = [0, 2] # this is the source node index for every edge\n",
    "edge_dst_idxs = [1, 1] # this is the destination node index for every edge\n",
    "\n",
    "g = dgl.graph((edge_src_idxs, edge_dst_idxs), num_nodes=num_nodes)\n",
    "\n",
    "# show the graph\n",
    "nx_g = g.to_networkx()\n",
    "plt.rcParams['font.size'] = 20\n",
    "plt.figure(figsize=[5,5])\n",
    "nx.draw(nx_g, with_labels=True, node_size=2000, width=3, font_size=16)\n",
    "plt.show()"
   ]
  },
  {
   "cell_type": "markdown",
   "metadata": {},
   "source": [
    "## accessing edges\n",
    "\n",
    "For a graph that already exists, you can obtain the edges in the representation we just described using `edges` method. "
   ]
  },
  {
   "cell_type": "code",
   "execution_count": 20,
   "metadata": {},
   "outputs": [
    {
     "name": "stdout",
     "output_type": "stream",
     "text": [
      "tensor([0, 2])\n",
      "tensor([1, 1])\n"
     ]
    }
   ],
   "source": [
    "src_idxs, dst_idxs = g.edges()\n",
    "print(src_idxs)\n",
    "print(dst_idxs)"
   ]
  },
  {
   "cell_type": "markdown",
   "metadata": {},
   "source": [
    "# Datasets of Graphs, Representing Molecules as Graphs\n",
    "\n",
    "We are going to work with a dataset of 3D structures of small molecules + properties of these molecules. The dataset is called QM9. Fortunately, it is available directly through the DGL in a graph format. "
   ]
  },
  {
   "cell_type": "markdown",
   "metadata": {},
   "source": [
    "## load the QM9 dataset\n",
    "\n",
    "Technically this dataset has ~12 scalar-valued quantum mechanical properties for every molecule. But we're just going to load the dataset with one of those labels, $\\mu$, the dipole moment of the molecule. "
   ]
  },
  {
   "cell_type": "code",
   "execution_count": 2,
   "metadata": {},
   "outputs": [
    {
     "name": "stdout",
     "output_type": "stream",
     "text": [
      "Done loading data from cached files.\n"
     ]
    }
   ],
   "source": [
    "dataset = dgl.data.QM9EdgeDataset(label_keys=['mu'], raw_dir='data/')"
   ]
  },
  {
   "cell_type": "markdown",
   "metadata": {},
   "source": [
    "# look at the data"
   ]
  },
  {
   "cell_type": "code",
   "execution_count": 30,
   "metadata": {},
   "outputs": [
    {
     "name": "stdout",
     "output_type": "stream",
     "text": [
      "Each example in the dataset is of type <class 'tuple'>\n",
      "This tuple has 2 elements\n",
      "\n",
      "\n",
      "The first element is a DGL graph with 5 nodes and 8 edges\n",
      "<class 'dgl.heterograph.DGLGraph'>\n",
      "Graph(num_nodes=5, num_edges=8,\n",
      "      ndata_schemes={'pos': Scheme(shape=(3,), dtype=torch.float32), 'attr': Scheme(shape=(11,), dtype=torch.float32)}\n",
      "      edata_schemes={'edge_attr': Scheme(shape=(4,), dtype=torch.float32)}) \n",
      "\n",
      "\n",
      "The second element is a tensor containing the label for that molecule. In this case, the dipole moment is tensor([0.]) D\n",
      "tensor([0.])\n"
     ]
    }
   ],
   "source": [
    "dataset_item = dataset[0]\n",
    "print(f'Each example in the dataset is of type {type(dataset_item)}')\n",
    "print(f'This tuple has {len(dataset_item)} elements\\n\\n')\n",
    "g, label = dataset_item\n",
    "print(f'The first element is a DGL graph with {g.number_of_nodes()} nodes and {g.number_of_edges()} edges')\n",
    "print(type(g))\n",
    "print(g,'\\n\\n')\n",
    "\n",
    "print(f'The second element is a tensor containing the label for that molecule. In this case, the dipole moment is {label} D')\n",
    "print(label)"
   ]
  },
  {
   "cell_type": "markdown",
   "metadata": {},
   "source": [
    "Each item in the dataset is a tuple of a DGLGraph object and torch tensor with a label for the graph. We can see that this graph has 5 nodes (atoms) and 8 edges (bonds).\n",
    "\n",
    "## What other types of data is stored in this graph?\n",
    "\n",
    "We can also see that the graph has a number of node and edge features. The node features are stored in the `ndata` attribute of the graph object and the edge features are stored in the `edata` attribute.\n",
    "\n",
    "I'm going to run through this by inpecting a graph object itself. But you can also gather more information from [the documentation for the dataset](https://docs.dgl.ai/en/2.0.x/generated/dgl.data.QM9EdgeDataset.html#dgl.data.QM9EdgeDataset) as well as [the preprocessing script](https://gist.github.com/hengruizhang98/a2da30213b2356fff18b25385c9d3cd2) that produced this dataset.\n",
    "\n",
    "### Lets start by looking at the data attached to nodes.\n",
    "\n",
    "Node data is stored in the `ndata` attribute of the graph object. This is a dictionary-like object that maps feature names to feature values."
   ]
  },
  {
   "cell_type": "code",
   "execution_count": 31,
   "metadata": {},
   "outputs": [
    {
     "name": "stdout",
     "output_type": "stream",
     "text": [
      "dict_keys(['pos', 'attr'])\n"
     ]
    }
   ],
   "source": [
    "print(g.ndata.keys())"
   ]
  },
  {
   "cell_type": "code",
   "execution_count": 32,
   "metadata": {},
   "outputs": [
    {
     "name": "stdout",
     "output_type": "stream",
     "text": [
      "shape of pos feature: torch.Size([5, 3])\n",
      "shape of attr feature torch.Size([5, 11])\n"
     ]
    }
   ],
   "source": [
    "print('shape of pos feature:',g.ndata['pos'].shape)\n",
    "print('shape of attr feature', g.ndata['attr'].shape)"
   ]
  },
  {
   "cell_type": "markdown",
   "metadata": {},
   "source": [
    "Each node has a position in 3D space. Resulting in a 5x3 tensor.\n",
    "\n",
    "Each node also has a feature vector of length 11. This is a one-hot encoding of atom type concatenated with some other features such as the hybridization of the atom."
   ]
  },
  {
   "cell_type": "markdown",
   "metadata": {},
   "source": [
    "### Lets look at the data attached to every edge"
   ]
  },
  {
   "cell_type": "code",
   "execution_count": 33,
   "metadata": {},
   "outputs": [
    {
     "name": "stdout",
     "output_type": "stream",
     "text": [
      "dict_keys(['edge_attr'])\n",
      "shape of edge_attr feature: torch.Size([8, 4])\n",
      "tensor([[1., 0., 0., 0.],\n",
      "        [1., 0., 0., 0.],\n",
      "        [1., 0., 0., 0.],\n",
      "        [1., 0., 0., 0.],\n",
      "        [1., 0., 0., 0.],\n",
      "        [1., 0., 0., 0.],\n",
      "        [1., 0., 0., 0.],\n",
      "        [1., 0., 0., 0.]])\n"
     ]
    }
   ],
   "source": [
    "print(g.edata.keys())\n",
    "print('shape of edge_attr feature:', g.edata['edge_attr'].shape)\n",
    "print(g.edata['edge_attr'])"
   ]
  },
  {
   "cell_type": "markdown",
   "metadata": {},
   "source": [
    "Every edge has a feature vector of length 4 attached to it. This is a one-hot encoding of the type of bond occuring between the two nodes that the edge connects. There are four possible bond types (single, double, triple, and aromatic). In this dataset, atoms only share an edge if they are covelently bonded."
   ]
  },
  {
   "cell_type": "markdown",
   "metadata": {},
   "source": [
    "# Visualize Molecules from the Dataset"
   ]
  },
  {
   "cell_type": "code",
   "execution_count": 5,
   "metadata": {},
   "outputs": [
    {
     "data": {
      "application/3dmoljs_load.v0": "<div id=\"3dmolviewer_17109465983665082\"  style=\"position: relative; width: 400px; height: 400px;\">\n        <p id=\"3dmolwarning_17109465983665082\" style=\"background-color:#ffcccc;color:black\">3Dmol.js failed to load for some reason.  Please check your browser console for error messages.<br></p>\n        </div>\n<script>\n\nvar loadScriptAsync = function(uri){\n  return new Promise((resolve, reject) => {\n    //this is to ignore the existence of requirejs amd\n    var savedexports, savedmodule;\n    if (typeof exports !== 'undefined') savedexports = exports;\n    else exports = {}\n    if (typeof module !== 'undefined') savedmodule = module;\n    else module = {}\n\n    var tag = document.createElement('script');\n    tag.src = uri;\n    tag.async = true;\n    tag.onload = () => {\n        exports = savedexports;\n        module = savedmodule;\n        resolve();\n    };\n  var firstScriptTag = document.getElementsByTagName('script')[0];\n  firstScriptTag.parentNode.insertBefore(tag, firstScriptTag);\n});\n};\n\nif(typeof $3Dmolpromise === 'undefined') {\n$3Dmolpromise = null;\n  $3Dmolpromise = loadScriptAsync('https://cdnjs.cloudflare.com/ajax/libs/3Dmol/2.1.0/3Dmol-min.js');\n}\n\nvar viewer_17109465983665082 = null;\nvar warn = document.getElementById(\"3dmolwarning_17109465983665082\");\nif(warn) {\n    warn.parentNode.removeChild(warn);\n}\n$3Dmolpromise.then(function() {\nviewer_17109465983665082 = $3Dmol.createViewer(document.getElementById(\"3dmolviewer_17109465983665082\"),{backgroundColor:\"white\"});\nviewer_17109465983665082.zoomTo();\n\tviewer_17109465983665082.removeAllModels();\n\tviewer_17109465983665082.addModel(\"\\n     RDKit          3D\\n\\n 14 13  0  0  0  0  0  0  0  0999 V2000\\n   -0.0322    1.5402    0.0107 C   0  0  0  0  0  0  0  0  0  0  0  0\\n    0.0338    0.0075    0.0018 C   0  0  0  0  0  0  0  0  0  0  0  0\\n    0.7138   -0.5086   -1.2730 C   0  0  0  0  0  0  0  0  0  0  0  0\\n    0.7385   -0.5222    1.2575 C   0  0  0  0  0  0  0  0  0  0  0  0\\n    0.9752    1.9741    0.0053 H   0  0  0  0  0  0  0  0  0  0  0  0\\n   -0.5620    1.9223   -0.8684 H   0  0  0  0  0  0  0  0  0  0  0  0\\n   -0.5482    1.9127    0.9021 H   0  0  0  0  0  0  0  0  0  0  0  0\\n   -0.9975   -0.3731    0.0098 H   0  0  0  0  0  0  0  0  0  0  0  0\\n    1.7507   -0.1559   -1.3327 H   0  0  0  0  0  0  0  0  0  0  0  0\\n    0.7345   -1.6033   -1.2994 H   0  0  0  0  0  0  0  0  0  0  0  0\\n    0.1937   -0.1609   -2.1720 H   0  0  0  0  0  0  0  0  0  0  0  0\\n    0.2361   -0.1838    2.1701 H   0  0  0  0  0  0  0  0  0  0  0  0\\n    0.7596   -1.6171    1.2723 H   0  0  0  0  0  0  0  0  0  0  0  0\\n    1.7764   -0.1699    1.3005 H   0  0  0  0  0  0  0  0  0  0  0  0\\n  1  2  1  0\\n  1  5  1  0\\n  1  6  1  0\\n  1  7  1  0\\n  2  3  1  0\\n  2  4  1  0\\n  2  8  1  0\\n  3  9  1  0\\n  3 10  1  0\\n  3 11  1  0\\n  4 12  1  0\\n  4 13  1  0\\n  4 14  1  0\\nM  END\\n\",\"sdf\");\n\tviewer_17109465983665082.setStyle({\"stick\": {}});\n\tviewer_17109465983665082.setBackgroundColor(\"0xeeeeee\");\n\tviewer_17109465983665082.zoomTo();\nviewer_17109465983665082.render();\n});\n</script>",
      "text/html": [
       "<div id=\"3dmolviewer_17109465983665082\"  style=\"position: relative; width: 400px; height: 400px;\">\n",
       "        <p id=\"3dmolwarning_17109465983665082\" style=\"background-color:#ffcccc;color:black\">3Dmol.js failed to load for some reason.  Please check your browser console for error messages.<br></p>\n",
       "        </div>\n",
       "<script>\n",
       "\n",
       "var loadScriptAsync = function(uri){\n",
       "  return new Promise((resolve, reject) => {\n",
       "    //this is to ignore the existence of requirejs amd\n",
       "    var savedexports, savedmodule;\n",
       "    if (typeof exports !== 'undefined') savedexports = exports;\n",
       "    else exports = {}\n",
       "    if (typeof module !== 'undefined') savedmodule = module;\n",
       "    else module = {}\n",
       "\n",
       "    var tag = document.createElement('script');\n",
       "    tag.src = uri;\n",
       "    tag.async = true;\n",
       "    tag.onload = () => {\n",
       "        exports = savedexports;\n",
       "        module = savedmodule;\n",
       "        resolve();\n",
       "    };\n",
       "  var firstScriptTag = document.getElementsByTagName('script')[0];\n",
       "  firstScriptTag.parentNode.insertBefore(tag, firstScriptTag);\n",
       "});\n",
       "};\n",
       "\n",
       "if(typeof $3Dmolpromise === 'undefined') {\n",
       "$3Dmolpromise = null;\n",
       "  $3Dmolpromise = loadScriptAsync('https://cdnjs.cloudflare.com/ajax/libs/3Dmol/2.1.0/3Dmol-min.js');\n",
       "}\n",
       "\n",
       "var viewer_17109465983665082 = null;\n",
       "var warn = document.getElementById(\"3dmolwarning_17109465983665082\");\n",
       "if(warn) {\n",
       "    warn.parentNode.removeChild(warn);\n",
       "}\n",
       "$3Dmolpromise.then(function() {\n",
       "viewer_17109465983665082 = $3Dmol.createViewer(document.getElementById(\"3dmolviewer_17109465983665082\"),{backgroundColor:\"white\"});\n",
       "viewer_17109465983665082.zoomTo();\n",
       "\tviewer_17109465983665082.removeAllModels();\n",
       "\tviewer_17109465983665082.addModel(\"\\n     RDKit          3D\\n\\n 14 13  0  0  0  0  0  0  0  0999 V2000\\n   -0.0322    1.5402    0.0107 C   0  0  0  0  0  0  0  0  0  0  0  0\\n    0.0338    0.0075    0.0018 C   0  0  0  0  0  0  0  0  0  0  0  0\\n    0.7138   -0.5086   -1.2730 C   0  0  0  0  0  0  0  0  0  0  0  0\\n    0.7385   -0.5222    1.2575 C   0  0  0  0  0  0  0  0  0  0  0  0\\n    0.9752    1.9741    0.0053 H   0  0  0  0  0  0  0  0  0  0  0  0\\n   -0.5620    1.9223   -0.8684 H   0  0  0  0  0  0  0  0  0  0  0  0\\n   -0.5482    1.9127    0.9021 H   0  0  0  0  0  0  0  0  0  0  0  0\\n   -0.9975   -0.3731    0.0098 H   0  0  0  0  0  0  0  0  0  0  0  0\\n    1.7507   -0.1559   -1.3327 H   0  0  0  0  0  0  0  0  0  0  0  0\\n    0.7345   -1.6033   -1.2994 H   0  0  0  0  0  0  0  0  0  0  0  0\\n    0.1937   -0.1609   -2.1720 H   0  0  0  0  0  0  0  0  0  0  0  0\\n    0.2361   -0.1838    2.1701 H   0  0  0  0  0  0  0  0  0  0  0  0\\n    0.7596   -1.6171    1.2723 H   0  0  0  0  0  0  0  0  0  0  0  0\\n    1.7764   -0.1699    1.3005 H   0  0  0  0  0  0  0  0  0  0  0  0\\n  1  2  1  0\\n  1  5  1  0\\n  1  6  1  0\\n  1  7  1  0\\n  2  3  1  0\\n  2  4  1  0\\n  2  8  1  0\\n  3  9  1  0\\n  3 10  1  0\\n  3 11  1  0\\n  4 12  1  0\\n  4 13  1  0\\n  4 14  1  0\\nM  END\\n\",\"sdf\");\n",
       "\tviewer_17109465983665082.setStyle({\"stick\": {}});\n",
       "\tviewer_17109465983665082.setBackgroundColor(\"0xeeeeee\");\n",
       "\tviewer_17109465983665082.zoomTo();\n",
       "viewer_17109465983665082.render();\n",
       "});\n",
       "</script>"
      ]
     },
     "metadata": {},
     "output_type": "display_data"
    },
    {
     "data": {
      "image/png": "[encoded data removed]",
      "text/html": [],
      "text/plain": [
       "<rdkit.Chem.rdchem.Mol at 0x7f3fa4ffb610>"
      ]
     },
     "execution_count": 5,
     "metadata": {},
     "output_type": "execute_result"
    }
   ],
   "source": [
    "g, _ = dataset[20]\n",
    "\n",
    "rdmol = graph_to_rdmol(g)\n",
    "rdmol"
   ]
  },
  {
   "cell_type": "markdown",
   "metadata": {},
   "source": [
    "# create a dataloader for the data\n",
    "\n",
    "As we saw previously, each entry in the dataset is a tuple of a dgl graph object and a tensor containing a label for the graph. \n",
    "\n",
    "The default behavior of a torch dataloader when collecting/collating samples for a batch is to stack the tensors in the batch along a new dimension. Implicit in this behavior\n",
    "is the assumption that the dataset class is going to simply return a tensor of tuple of tensors for each sample. \n",
    "\n",
    "So, we need to tell the dataloader how to collate the samples. We can do this by defining a custom collate function and passing it to the dataloader."
   ]
  },
  {
   "cell_type": "code",
   "execution_count": 3,
   "metadata": {},
   "outputs": [],
   "source": [
    "def labeled_graph_collate_fn(dataset_entries: List[Tuple[dgl.DGLGraph, torch.Tensor]]):\n",
    "    graphs, labels = zip(*dataset_entries)\n",
    "    batched_graph = dgl.batch(graphs)\n",
    "    return batched_graph, torch.stack(labels)\n",
    "\n",
    "dataloader = DataLoader(dataset, batch_size=32, shuffle=True, collate_fn=labeled_graph_collate_fn)"
   ]
  },
  {
   "cell_type": "markdown",
   "metadata": {},
   "source": [
    "now lets inspect what a batch of data looks like!"
   ]
  },
  {
   "cell_type": "code",
   "execution_count": 7,
   "metadata": {},
   "outputs": [],
   "source": [
    "batch = next(iter(dataloader))"
   ]
  },
  {
   "cell_type": "code",
   "execution_count": 8,
   "metadata": {},
   "outputs": [
    {
     "name": "stdout",
     "output_type": "stream",
     "text": [
      "the type of the batch is <class 'tuple'>\n",
      "the length of the tuple is 2\n",
      "the type of the first element is <class 'dgl.heterograph.DGLGraph'>\n",
      "the type of the second element is <class 'torch.Tensor'>\n"
     ]
    }
   ],
   "source": [
    "print(f'the type of the batch is {type(batch)}')\n",
    "print(f'the length of the tuple is {len(batch)}')\n",
    "\n",
    "print(f'the type of the first element is {type(batch[0])}')\n",
    "print(f'the type of the second element is {type(batch[1])}')"
   ]
  },
  {
   "cell_type": "markdown",
   "metadata": {},
   "source": [
    "Each batch is a tuple of 2 objects. These are a `DGLGraph` object and a tensor of labels.\n",
    "\n",
    "But, this is supposed to be a batch of multiple graphs. How can there be just one graph object?"
   ]
  },
  {
   "cell_type": "code",
   "execution_count": 9,
   "metadata": {},
   "outputs": [
    {
     "name": "stdout",
     "output_type": "stream",
     "text": [
      "Graph(num_nodes=583, num_edges=1202,\n",
      "      ndata_schemes={'pos': Scheme(shape=(3,), dtype=torch.float32), 'attr': Scheme(shape=(11,), dtype=torch.float32)}\n",
      "      edata_schemes={'edge_attr': Scheme(shape=(4,), dtype=torch.float32)})\n",
      "torch.Size([32, 1])\n"
     ]
    }
   ],
   "source": [
    "g, label = batch\n",
    "print(g)\n",
    "print(label.shape)"
   ]
  },
  {
   "cell_type": "markdown",
   "metadata": {},
   "source": [
    "There are labels for 32 graphs (which is our batch size).\n",
    "\n",
    "Also notice that the graph object has lots of nodes and edges! Way more than we would expect for a single molecule. This is because the graph object is a batched graph. It is a single graph object that represents multiple graphs. This is a (very important) feature of the `dgl` library."
   ]
  },
  {
   "cell_type": "markdown",
   "metadata": {},
   "source": [
    "# Build a graph neural network\n",
    "\n",
    "Our model will simply do a few graph convolutions, updating the node features at each layer. Then we will pool all the node features by taking their mean. Then a small MLP will predict a scalar value from this pooled representation."
   ]
  },
  {
   "cell_type": "code",
   "execution_count": 20,
   "metadata": {},
   "outputs": [
    {
     "name": "stdout",
     "output_type": "stream",
     "text": [
      "the size of the batch is 32\n",
      "the shape of the predictions is torch.Size([32, 1])\n"
     ]
    }
   ],
   "source": [
    "n_node_feats = 11\n",
    "n_edge_feats = 4\n",
    "n_hidden_feats = 32\n",
    "model = MoleculeRegressor(n_node_feats=n_node_feats, n_edge_feats=n_edge_feats, hidden_node_feats=n_hidden_feats, n_convs=2)\n",
    "\n",
    "# get a batch\n",
    "batch = next(iter(dataloader))\n",
    "g, label = batch\n",
    "\n",
    "print(f'the size of the batch is {g.batch_size}')\n",
    "\n",
    "predictions = model(g)\n",
    "\n",
    "\n",
    "print(f'the shape of the predictions is {predictions.shape}')"
   ]
  },
  {
   "cell_type": "markdown",
   "metadata": {},
   "source": [
    "# train the GNN"
   ]
  },
  {
   "cell_type": "code",
   "execution_count": 19,
   "metadata": {},
   "outputs": [
    {
     "data": {
      "text/plain": [
       "4"
      ]
     },
     "execution_count": 19,
     "metadata": {},
     "output_type": "execute_result"
    }
   ],
   "source": [
    "g.edata['edge_attr'].shape[1]"
   ]
  },
  {
   "cell_type": "code",
   "execution_count": 26,
   "metadata": {},
   "outputs": [
    {
     "name": "stdout",
     "output_type": "stream",
     "text": [
      "epoch 0.10, batch 205, avg loss 2.858\n",
      "epoch 0.20, batch 410, avg loss 2.841\n",
      "epoch 0.30, batch 615, avg loss 2.148\n",
      "epoch 0.40, batch 820, avg loss 1.923\n",
      "epoch 0.50, batch 1025, avg loss 1.967\n",
      "epoch 0.60, batch 1230, avg loss 2.050\n",
      "epoch 0.70, batch 1435, avg loss 1.950\n"
     ]
    }
   ],
   "source": [
    "# create the model\n",
    "batch = next(iter(dataloader))\n",
    "g, label = batch\n",
    "n_node_feats = 11\n",
    "n_edge_feats = 4\n",
    "n_hidden_feats = 32\n",
    "model = MoleculeRegressor(n_node_feats=n_node_feats, n_edge_feats=n_edge_feats, hidden_node_feats=n_hidden_feats, n_convs=4)\n",
    "\n",
    "\n",
    "device = 'cuda:0'\n",
    "model = model.to(device)\n",
    "max_epochs = 3.0\n",
    "n_epochs_int = math.ceil(max_epochs)\n",
    "batch_size = 64\n",
    "print_interval = 0.1\n",
    "last_print_marker = 0.0\n",
    "\n",
    "dataloader = DataLoader(dataset, batch_size=batch_size, shuffle=True, collate_fn=labeled_graph_collate_fn)\n",
    "loss_fn = nn.MSELoss(reduction='mean')\n",
    "optim = torch.optim.Adam(model.parameters(), lr=1e-4)\n",
    "batches_per_epoch = len(dataloader)\n",
    "\n",
    "batch_losses = []\n",
    "epoch_vals = []\n",
    "for epoch_idx in range(n_epochs_int):\n",
    "    for batch_idx, batch in enumerate(dataloader):\n",
    "\n",
    "        # compute the epoch as a floating point number\n",
    "        epoch_exact = epoch_idx + batch_idx / batches_per_epoch\n",
    "        if epoch_exact > max_epochs:\n",
    "            break\n",
    "        epoch_vals.append(epoch_exact)\n",
    "\n",
    "        optim.zero_grad() # zero the gradients\n",
    "\n",
    "        # unpack graph, labels and move to the gpu\n",
    "        g, label = batch\n",
    "        g = g.to(device)\n",
    "        label = label.to(device)\n",
    "\n",
    "        # make predictions\n",
    "        predictions = model(g)\n",
    "\n",
    "        # compute loss\n",
    "        loss = loss_fn(predictions, label)\n",
    "\n",
    "        # record the loss\n",
    "        batch_losses.append(loss.item())\n",
    "\n",
    "        # compute gradients\n",
    "        loss.backward()\n",
    "        \n",
    "        # update model parameters\n",
    "        optim.step()\n",
    "\n",
    "        if epoch_exact - last_print_marker > print_interval:\n",
    "            # compute the average loss over the last 50 batches\n",
    "            avg_loss = sum(batch_losses[-50:]) / 50\n",
    "            print(f'epoch {epoch_exact:.2f}, batch {batch_idx}, avg loss {avg_loss:.3f}')\n",
    "            last_print_marker = epoch_exact\n",
    "\n",
    "\n",
    "plt.plot(epoch_vals, batch_losses)\n",
    "plt.show()"
   ]
  }
 ],
 "metadata": {
  "kernelspec": {
   "display_name": "phflow",
   "language": "python",
   "name": "python3"
  },
  "language_info": {
   "codemirror_mode": {
    "name": "ipython",
    "version": 3
   },
   "file_extension": ".py",
   "mimetype": "text/x-python",
   "name": "python",
   "nbconvert_exporter": "python",
   "pygments_lexer": "ipython3",
   "version": "3.10.13"
  }
 },
 "nbformat": 4,
 "nbformat_minor": 2
}
